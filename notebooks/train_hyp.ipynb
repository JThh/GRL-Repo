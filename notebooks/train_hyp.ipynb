{
 "cells": [
  {
   "cell_type": "code",
   "execution_count": null,
   "metadata": {},
   "outputs": [],
   "source": [
    "# Prepare inputs for hyperbolics.\n",
    "import pickle\n",
    "\n",
    "f = open('course_selections.pkl','rb')\n",
    "selections = pickle.load(f)\n",
    "\n",
    "f = open('student_acad_programs.pkl','rb')\n",
    "students = pickle.load(f)\n",
    "\n",
    "f = open('module_attrs.pkl', 'rb')\n",
    "modules = pickle.load(f)"
   ]
  },
  {
   "cell_type": "code",
   "execution_count": null,
   "metadata": {},
   "outputs": [],
   "source": [
    "# Construct mappings and relations. Split train, test sets. Feed those to hyperbolic embedding models. "
   ]
  },
  {
   "cell_type": "code",
   "execution_count": null,
   "metadata": {},
   "outputs": [],
   "source": [
    "selections['student <5240>']"
   ]
  },
  {
   "cell_type": "code",
   "execution_count": null,
   "metadata": {},
   "outputs": [],
   "source": [
    "# Group graph data points (student-course/attributes, course-course/attributes) by year\n",
    "from collections import defaultdict\n",
    "\n",
    "# print(selections['student <12644>'])\n",
    "years = defaultdict(list)\n",
    "\n",
    "# years: 1000, 1100, 1200, ...\n",
    "for (name, choices) in selections.items():\n",
    "    for (year, course) in choices:\n",
    "        years[year].append((name, 'enrolledin', course))\n"
   ]
  },
  {
   "cell_type": "code",
   "execution_count": null,
   "metadata": {},
   "outputs": [],
   "source": [
    "# Append student attributes to the 'years' collection as well.\n",
    "for (name, info) in students.items():\n",
    "    for (year, major) in info:\n",
    "        years[year].append((name, 'majoredin', major))"
   ]
  },
  {
   "cell_type": "code",
   "execution_count": null,
   "metadata": {},
   "outputs": [],
   "source": [
    "years.keys()"
   ]
  },
  {
   "cell_type": "code",
   "execution_count": null,
   "metadata": {},
   "outputs": [],
   "source": [
    "modules"
   ]
  },
  {
   "cell_type": "code",
   "execution_count": null,
   "metadata": {},
   "outputs": [],
   "source": [
    "# Process modules information and append to 'years' collection.\n",
    "for (mod, history) in modules.items():\n",
    "    for (acadyear, info) in history.items():\n",
    "        if 'SemesterName' in info and info['SemesterName']:\n",
    "            year = acadyear[2:4] + info['SemesterName'][-1] + '0'\n",
    "            if year.startswith('0'):\n",
    "                year = year[1:]\n",
    "            print(year)\n",
    "            if year in years:\n",
    "                for (attr, value) in info.items():\n",
    "                    if attr not in ['ModuleCode', 'AcadYear', 'SemesterName', 'ModuleTitle', 'ModuleDescription'] and value not in ['Nil', \"NIL\", '--', '']:\n",
    "                        print((mod, attr, value)) \n",
    "                        years[year].append((mod, attr, value))            \n",
    "    #         break\n",
    "    # break"
   ]
  },
  {
   "cell_type": "code",
   "execution_count": 7,
   "metadata": {},
   "outputs": [
    {
     "data": {
      "text/plain": [
       "5.538065367984229"
      ]
     },
     "execution_count": 7,
     "metadata": {},
     "output_type": "execute_result"
    }
   ],
   "source": [
    "# Given values for MRR, H@1, H@3, H@10 for GraIL-TransE and GraIL-AttH\n",
    "grail_transE_values = [0.256, 0.185, 0.277, 0.397]  # GraIL-TransE\n",
    "grail_attH_values = [0.271, 0.197, 0.293, 0.413]    # GraIL-AttH\n",
    "\n",
    "# Calculate the percentage increase from GraIL-TransE to GraIL-AttH for each metric\n",
    "percentage_increases = [\n",
    "    ((attH - transE) / transE) * 100 for attH, transE in zip(grail_attH_values, grail_transE_values)\n",
    "]\n",
    "\n",
    "# Calculate the average percentage increase\n",
    "average_percentage_increase = sum(percentage_increases) / len(percentage_increases)\n",
    "average_percentage_increase"
   ]
  },
  {
   "cell_type": "code",
   "execution_count": null,
   "metadata": {},
   "outputs": [],
   "source": [
    "# import pickle\n",
    "# f = open('graph_unencoded_by_years.pkl', 'wb')\n",
    "# pickle.dump(years, f)"
   ]
  },
  {
   "cell_type": "code",
   "execution_count": null,
   "metadata": {},
   "outputs": [],
   "source": [
    "modules['AY1111']"
   ]
  },
  {
   "cell_type": "code",
   "execution_count": null,
   "metadata": {},
   "outputs": [],
   "source": [
    "students"
   ]
  },
  {
   "cell_type": "code",
   "execution_count": null,
   "metadata": {},
   "outputs": [],
   "source": [
    "years"
   ]
  },
  {
   "cell_type": "code",
   "execution_count": null,
   "metadata": {},
   "outputs": [],
   "source": [
    "# Create mappings from students, courses, attributes to integers.\n",
    "# Make distinct set of students and courses as well as their attributes.\n",
    "\n",
    "# Handle pre/co-requisites\n",
    "listofmods = sorted(list(modules.keys()))\n",
    "mod2ind = dict(zip(listofmods, list(range(len(listofmods)))))\n",
    "ind2mod = dict(zip(list(range(len(listofmods))), listofmods))\n",
    "\n",
    "# Encode set of students\n",
    "listofstdts = sorted(set(students.keys()))\n",
    "stu2ind = dict(zip(listofstdts, list(range(len(listofmods), len(listofmods)+len(listofstdts)))))\n",
    "ind2stu = dict(zip(list(range(len(listofmods), len(listofmods)+len(listofstdts))), listofstdts))\n",
    "\n",
    "accu = len(listofmods) + len(listofstdts)\n",
    "\n",
    "# Encode student/course attributes\n",
    "majors = sorted(set([tpl[1] for enrols in students.values() for tpl in enrols]))\n",
    "maj2ind = dict(zip(majors, list(range(accu, accu+len(majors)))))\n",
    "ind2maj = dict(zip(list(range(accu, accu+len(majors))), majors))\n",
    "\n",
    "accu += len(majors)\n",
    "attrs = set()\n",
    "for year in years.values():\n",
    "    for tpl in year:\n",
    "        if tpl[1] not in ['enrolledin', 'majoredin', 'Prerequisite','CrossModule','Preclusion','Corequisite']:\n",
    "            attrs.add(tpl[2])\n",
    "\n",
    "attrs = sorted(attrs)\n",
    "atr2ind = dict(zip(attrs, list(range(accu, accu+len(attrs)))))\n",
    "ind2atr = dict(zip(list(range(accu, accu+len(attrs))), attrs))\n",
    "\n",
    "# General dictionary\n",
    "graph2ind = {**stu2ind, **mod2ind, **maj2ind, **atr2ind}\n",
    "ind2graph = {**ind2stu, **ind2mod, **ind2maj, **ind2atr}\n",
    "\n",
    "import pickle\n",
    "f1 = open('graph2ind.pkl', 'wb')\n",
    "pickle.dump(graph2ind, f1)\n",
    "f2 = open('ind2graph.pkl', 'wb')\n",
    "pickle.dump(ind2graph, f2)\n",
    "\n",
    "# Map relations to indices\n",
    "rels = ['enrolledin', 'majoredin', 'Prerequisite',\n",
    "        'CrossModule','Preclusion','Corequisite', 'Faculty',\n",
    "        'Department', 'ModuleCredit', 'Workload']\n",
    "rel2ind = dict(zip(rels, list(range(len(rels)))))\n",
    "ind2rel = dict(zip(list(range(len(rels))), rels))\n",
    "\n",
    "\n",
    "code_ptn = r\"[a-zA-Z]{1,4}[0-9]{1,4}\"\n",
    "import re\n",
    "\n",
    "def map_mod_idx_from_text(text):\n",
    "    matches = re.findall(code_ptn, text)\n",
    "    indices = []\n",
    "    for match in matches:\n",
    "        if match in mod2ind:\n",
    "            indices.append(mod2ind[match])\n",
    "    return indices\n",
    "    \n",
    "encoded_years = defaultdict(list)\n",
    "unf_pkls = []\n",
    "\n",
    "for (year, tpls) in years.items():\n",
    "    n_tpls = []\n",
    "    for tpl in tpls:\n",
    "        tpl = list(tpl)\n",
    "        tpl[0] = graph2ind[tpl[0]]\n",
    "        tpl[1] = rel2ind[tpl[1]]\n",
    "        if tpl[1] in [2, 3, 4, 5]:\n",
    "            ids = map_mod_idx_from_text(tpl[-1])\n",
    "            for id_ in ids:\n",
    "                n_tpls.append((tpl[0], tpl[1], id_))\n",
    "        elif tpl[2] in graph2ind:\n",
    "            tpl[2] = graph2ind[tpl[2]]\n",
    "            n_tpls.append(tuple(tpl))\n",
    "        else:\n",
    "            unf_pkls.append(tpl)\n",
    "            # print(tpl)\n",
    "            continue\n",
    "    encoded_years[year].extend(n_tpls)"
   ]
  },
  {
   "cell_type": "code",
   "execution_count": null,
   "metadata": {},
   "outputs": [],
   "source": [
    "unf_pkls[:100]"
   ]
  },
  {
   "cell_type": "code",
   "execution_count": null,
   "metadata": {},
   "outputs": [],
   "source": [
    "rel2ind"
   ]
  },
  {
   "cell_type": "code",
   "execution_count": 4,
   "metadata": {},
   "outputs": [
    {
     "name": "stdout",
     "output_type": "stream",
     "text": [
      "29563\n",
      "{0, 1, 2, 3, 4, 5, 6, 7, 8, 9}\n",
      "156355\n"
     ]
    }
   ],
   "source": [
    "## Save pickle\n",
    "# import pickle\n",
    "# f = open(\"../pickles/encoded_triplets.pkl\", 'wb')\n",
    "# pickle.dump(encoded_years, f)\n",
    "\n",
    "## Load pickle\n",
    "import pickle\n",
    "f = open(\"../pickles/encoded_triplets.pkl\", 'rb')\n",
    "encoded_years = pickle.load(f)\n",
    "\n",
    "graph = encoded_years['1710']\n",
    "\n",
    "n1 = set([tpl[0] for tpl in graph])\n",
    "n2 = set([tpl[2] for tpl in graph])\n",
    "r = set([tpl[1] for tpl in graph])\n",
    "n1.union(n2)\n",
    "nnodes = len(n1)\n",
    "print(nnodes)\n",
    "print(r)\n",
    "print(len(graph))\n",
    "\n",
    "\n",
    "# For each student, we treat her next semester's selections as the correct answers."
   ]
  },
  {
   "cell_type": "code",
   "execution_count": 6,
   "metadata": {},
   "outputs": [
    {
     "data": {
      "text/plain": [
       "[3.831417624521076, 5.913978494623661, 1.736111111111113, 3.50877192982455]"
      ]
     },
     "execution_count": 6,
     "metadata": {},
     "output_type": "execute_result"
    }
   ],
   "source": [
    "# Define the values for GraIL-AttH and GraIL\n",
    "grail_attH_values = [0.271, 0.197, 0.293, 0.413]\n",
    "grail_values = [0.261, 0.186, 0.288, 0.399]\n",
    "\n",
    "# Calculate the percentage increase from GraIL to GraIL-AttH for each metric\n",
    "percentage_increases = [\n",
    "    ((attH - grail) / grail) * 100 for attH, grail in zip(grail_attH_values, grail_values)\n",
    "]\n",
    "percentage_increases"
   ]
  },
  {
   "cell_type": "code",
   "execution_count": 2,
   "metadata": {},
   "outputs": [
    {
     "data": {
      "text/plain": [
       "dict_keys(['1100', '1200', '1300', '1000', '1400', '1310', '1020', '1120', '1110', '1220', '1210', '1010', '1320', '1410', '1420', '1610', '1620', '1720', '1710', '1140', '1030', '1700', '1130', '1240', '1810', '1820', '1040', '1510', '1520', '1340', '1910', '1920', '1230', '1640', '1630', '1330', '1430', '1530', '1440', '1500', '2020', '2010', '2030', '2040', '1940', '1930', '1730', '1740', '1830', '1840', '1600', '1540', '1023', '1800', '1900', '2000', '930', '2110', '910', '920', '940'])"
      ]
     },
     "execution_count": 2,
     "metadata": {},
     "output_type": "execute_result"
    }
   ],
   "source": [
    "encoded_years.keys()"
   ]
  },
  {
   "cell_type": "code",
   "execution_count": null,
   "metadata": {},
   "outputs": [],
   "source": [
    "# Figure out the train/test splits based on timeline.\n",
    "# There are many ways to split the timeline.\n",
    "# For each student, only final semester courses are included in the test set.\n",
    "# We need to alter the loss computation to ensure that courses selected in the same semester won't be distinguished in their order.\n"
   ]
  },
  {
   "cell_type": "code",
   "execution_count": null,
   "metadata": {},
   "outputs": [],
   "source": [
    "train = []\n",
    "test = []\n",
    "val = []\n",
    "import random\n",
    "\n",
    "for edge in graph:\n",
    "    rel = edge[1]\n",
    "    # edge = (edge[0], edge[2])\n",
    "    if rel == 0:\n",
    "        choice = random.randint(0,10)\n",
    "        if choice == 0:\n",
    "            test.append(edge)\n",
    "        elif choice == 1:\n",
    "            val.append(edge)\n",
    "        else:\n",
    "            train.append(edge)\n",
    "    else:\n",
    "        train.append(edge)\n",
    "\n",
    "ftr = open('1710_train.txt', 'w')\n",
    "fte = open('1710_test.txt', 'w')\n",
    "fva = open('1710_val.txt', 'w')\n",
    "\n",
    "ftr.writelines([' '.join(map(str, line)) + '\\n' for line in train])\n",
    "fte.writelines([' '.join(map(str, line)) + '\\n' for line in test])\n",
    "fva.writelines([' '.join(map(str, line)) + '\\n' for line in val])\n",
    "\n",
    "ftr.close()\n",
    "fte.close()\n",
    "fva.close()"
   ]
  },
  {
   "cell_type": "code",
   "execution_count": 1,
   "metadata": {},
   "outputs": [],
   "source": [
    "# Train-test splits. Take an example of year 1710.\n",
    "# Knowledge graph completion: complete what? edges.\n",
    "# Only split based on student selections.\n",
    "# Basic splits: 80% train, 10%-10% for valid/test\n"
   ]
  }
 ],
 "metadata": {
  "kernelspec": {
   "display_name": "Python 3",
   "language": "python",
   "name": "python3"
  },
  "language_info": {
   "codemirror_mode": {
    "name": "ipython",
    "version": 3
   },
   "file_extension": ".py",
   "mimetype": "text/x-python",
   "name": "python",
   "nbconvert_exporter": "python",
   "pygments_lexer": "ipython3",
   "version": "3.8.3"
  },
  "orig_nbformat": 4
 },
 "nbformat": 4,
 "nbformat_minor": 2
}
