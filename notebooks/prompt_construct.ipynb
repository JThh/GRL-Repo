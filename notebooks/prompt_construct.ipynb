{
 "cells": [
  {
   "cell_type": "code",
   "execution_count": 7,
   "metadata": {},
   "outputs": [],
   "source": [
    "import pickle\n",
    "\n",
    "f = open('course_selections.pkl','rb')\n",
    "selections = pickle.load(f)\n",
    "\n",
    "f = open('student_acad_programs.pkl','rb')\n",
    "students = pickle.load(f)\n",
    "\n",
    "f = open('module_attrs.pkl', 'rb')\n",
    "modules = pickle.load(f)"
   ]
  },
  {
   "cell_type": "code",
   "execution_count": 12,
   "metadata": {},
   "outputs": [
    {
     "data": {
      "text/plain": [
       "{'ModuleCode': 'CS1010',\n",
       " 'ModuleTitle': 'Programming Methodology',\n",
       " 'AcadYear': '2018/2019',\n",
       " 'SemesterName': 'Special Term II',\n",
       " 'Faculty': 'SCHOOL OF COMPUTING',\n",
       " 'Department': 'COMPUTER SCIENCE',\n",
       " 'ModuleDescription': 'This module introduces the fundamental concepts of problem solving by computing and programming using an imperative programming language. It is the first and foremost introductory course to computing.  Topics covered include computational thinking and computational problem solving, designing and specifying an algorithm, basic problem formulation and problem solving approaches, program development, coding, testing and debugging, fundamental programming constructs (variables, types, expressions, assignments, functions, control structures, etc.), fundamental data structures (arrays, strings, composite data types), basic sorting, and recursion.',\n",
       " 'CrossModule': '',\n",
       " 'ModuleCredit': '4',\n",
       " 'Workload': '2-1-1-3-3',\n",
       " 'Prerequisite': 'Nil',\n",
       " 'Preclusion': 'CS1010E, CS1010J, CS1010S, CS1010X, CS1010XCP, CS1101S',\n",
       " 'Corequisite': 'Nil'}"
      ]
     },
     "execution_count": 12,
     "metadata": {},
     "output_type": "execute_result"
    }
   ],
   "source": [
    "list(modules['CS1010'].values())[-1]"
   ]
  },
  {
   "cell_type": "code",
   "execution_count": 32,
   "metadata": {},
   "outputs": [],
   "source": [
    "import requests\n",
    "from collections import defaultdict\n",
    "\n",
    "modules = defaultdict(defaultdict)\n",
    "\n",
    "for i in range(13,20):\n",
    "    for j in range(5):\n",
    "        if i == 19 and j != 1:\n",
    "            continue\n",
    "        URL = f\"https://api.nusmods.com/20{i}-20{i+1}/{j}/bulletinModulesRaw.json\"    \n",
    "        response = requests.get(URL)\n",
    "        if response.status_code == 200:\n",
    "            json = response.json()\n",
    "            for mod in json:\n",
    "                modules[mod['ModuleCode']][mod['AcadYear']] = mod\n",
    "        else:\n",
    "            print(URL, \"not found.\")"
   ]
  },
  {
   "cell_type": "code",
   "execution_count": 39,
   "metadata": {},
   "outputs": [],
   "source": [
    "# import pickle\n",
    "# f = open(\"module_attrs.pkl\", 'wb')\n",
    "# pickle.dump(modules, f)"
   ]
  },
  {
   "cell_type": "code",
   "execution_count": 3,
   "metadata": {},
   "outputs": [],
   "source": [
    "# Construct prompts: zero-shot\n",
    "# 'ModuleCode': 'CS1010',\n",
    "            #   'ModuleTitle': 'Programming Methodology',\n",
    "            #   'AcadYear': '2018/2019',\n",
    "            #   'SemesterName': 'Special Term II',\n",
    "            #   'Faculty': 'SCHOOL OF COMPUTING',\n",
    "            #   'Department': 'COMPUTER SCIENCE',\n",
    "            #   'ModuleDescription': 'This module introduces the fundamental concepts of problem solving by computing and programming using an imperative programming language. It is the first and foremost introductory course to computing.  Topics covered include computational thinking and computational problem solving, designing and specifying an algorithm, basic problem formulation and problem solving approaches, program development, coding, testing and debugging, fundamental programming constructs (variables, types, expressions, assignments, functions, control structures, etc.), fundamental data structures (arrays, strings, composite data types), basic sorting, and recursion.',\n",
    "            #   'CrossModule': '',\n",
    "            #   'ModuleCredit': '4',\n",
    "            #   'Workload': '2-1-1-3-3',\n",
    "            #   'Prerequisite': 'Nil',\n",
    "            #   'Preclusion': 'CS1010E, CS1010J, CS1010S, CS1010X, CS1010XCP, CS1101S',\n",
    "            #   'Corequisite': 'Nil'\n",
    "\n",
    "from collections import defaultdict\n",
    "def gen_course_table(mods):\n",
    "    mods = mods[-15:]\n",
    "    import random\n",
    "    random.shuffle(mods)\n",
    "    columns = \"\"\"\n",
    "    |Course Code|Course Title|Academic Year|Faculty|Department|ModuleCredit|Workload|Prerequisite|Preclusion|Corequisite|\"\"\"\n",
    "    \n",
    "    for (term, mod) in mods:\n",
    "        if mod not in modules:\n",
    "            continue\n",
    "        if term not in modules[mod]:\n",
    "            mod_info = list(modules[mod].values())[-1]\n",
    "        else:\n",
    "            mod_info = modules[mod][term]\n",
    "        mi = defaultdict(str, mod_info)\n",
    "        columns += f\"\"\"\n",
    "        |{mi['ModuleCode']}|{mi['ModuleTitle']}|{mi['AcadYear']}|{mi['Faculty']}|{mi['Department']}|{mi['ModuleCredit']}|{mi['Workload']}|{mi['Prerequisite']}|{mi['Preclusion']}|{mi['Corequisite']}|\"\"\"\n",
    "        \n",
    "    return columns\n",
    "\n",
    "def generate_prompt(courses, selections):\n",
    "    if input:\n",
    "        return f\"\"\"Below is a course recommendation task. Fill up the Selection Table (<TO FILL>) based on the likelihood of the student's next selections.\n",
    "\n",
    "### Course Table:\n",
    "{courses}\n",
    "\n",
    "### Selection Table:\n",
    "{selections}\n",
    "\n",
    "### Filled Selection Table:\"\"\"\n",
    "\n",
    "prompts = []\n",
    "\n",
    "for (stu, mods) in selections.items():\n",
    "    mods = sorted(list(mods), key=lambda x:x[0])\n",
    "    prev = mods[:int(len(mods) * 0.9)]\n",
    "    pred = mods[int(len(mods) * 0.9):]\n",
    "    if not prev or not pred:\n",
    "        continue\n",
    "    if stu not in students:\n",
    "        continue\n",
    "    if prev[-1][0] in students[stu]:\n",
    "        desc = students[stu][prev[-1][0]]\n",
    "    else:\n",
    "        desc = sorted(list(students[stu]))[-1][1]\n",
    "    selection_table = f\"\"\"\n",
    "        |Major Description|Past Course Selections in Time Order|Predicted Course Selections|\n",
    "        |{desc}|{list(map(lambda x:x[1], prev))}| <TO FILL>|\n",
    "\n",
    "    \"\"\"  \n",
    "#        Correct answers to fill up the table: {list(map(lambda x:x[1], pred))}   \n",
    "    course_table = gen_course_table(mods)\n",
    "    prompt = generate_prompt(course_table, selection_table)\n",
    "    prompts.append(prompt)"
   ]
  },
  {
   "cell_type": "code",
   "execution_count": 86,
   "metadata": {},
   "outputs": [
    {
     "name": "stdout",
     "output_type": "stream",
     "text": [
      "9617\n"
     ]
    }
   ],
   "source": [
    "print(max(map(len, prompts)))"
   ]
  },
  {
   "cell_type": "code",
   "execution_count": 7,
   "metadata": {},
   "outputs": [
    {
     "name": "stdout",
     "output_type": "stream",
     "text": [
      "Below is a course recommendation task. Fill up the Selection Table (<TO FILL>) based on the likelihood of the student's next selections.\n",
      "\n",
      "### Course Table:\n",
      "\n",
      "    |Course Code|Course Title|Academic Year|Faculty|Department|ModuleCredit|Workload|Prerequisite|Preclusion|Corequisite|\n",
      "        |PS5313R|SEMINAR ON STATE AND SOCIETY|2014/2015|ARTS & SOCIAL SCIENCES|POLITICAL SCIENCE|5|0-3-0-2-5||||\n",
      "        |SN3281|The Story of Indian Business|2018/2019|ARTS & SOCIAL SCIENCES|SOUTH ASIAN STUDIES PROGRAMME|4|2-1-0-3-4||||\n",
      "        |SW1101E|Social Work: A Heart-Head-Hand Connection|2018/2019|ARTS & SOCIAL SCIENCES|SOCIAL WORK|4|2-1-0-1-6|Nil|NIL|NIL|\n",
      "        |SN3274|South Asian Cinema|2018/2019|ARTS & SOCIAL SCIENCES|SOUTH ASIAN STUDIES PROGRAMME|4|2-1-0-2-5||||\n",
      "        |PS2255|Politics of the Middle East|2018/2019|ARTS & SOCIAL SCIENCES|POLITICAL SCIENCE|4|2-1-0-2-5|NIL|GEK2025|NIL|\n",
      "        |PS4225|Contemporary Issues in Chinese Politics|2015/2016|ARTS & SOCIAL SCIENCES|POLITICAL SCIENCE|5|0-3-0-2-7.5|Cohort 2011 and before:\n",
      "Completed 80 MCs, including 28 MCs in PS, with a minimum CAP of 3.50 or be on the Honours track.\n",
      "\n",
      "Cohort 2012 onwards:\n",
      "Completed 80 MCs, including 28 MCs in PS or 28 MCs in GL/GL recognised non-language modules, with a minimum CAP of 3.20 or be on the Honours track.|Nil|Nil|\n",
      "        |PS4220|Rhetoric and Politics|2016/2017|ARTS & SOCIAL SCIENCES|POLITICAL SCIENCE|5|0-3-0-2-7.5|Cohort 2011 and before:\n",
      "Completed 80 MCs, including 28 MCs in PS or 28 MCs in EL/EN, with a minimum CAP of 3.50 or be on the Honours track.\n",
      "\n",
      "Cohort 2012 onwards:\n",
      "Completed 80 MCs, including 28 MCs in PS or 28 MCs in EL/EN, with a minimum CAP of 3.20 or be on the Honours track.|Nil||\n",
      "        |SC1101E|Making Sense of Society|2018/2019|ARTS & SOCIAL SCIENCES|SOCIOLOGY|4|2-1-0-4-3|NIL|NIL||\n",
      "        |SN3223|International Relations of South Asia|2018/2019|ARTS & SOCIAL SCIENCES|SOUTH ASIAN STUDIES PROGRAMME|4|2-1-0-0-7|Nil|Nil||\n",
      "        |JS1101E|Introduction to Japanese Studies|2018/2019|ARTS & SOCIAL SCIENCES|JAPANESE STUDIES|4|2-1-0-3-4||GEK1002||\n",
      "        |PS4883A|Topics in PT: Orientalism and Femininity|2018/2019|ARTS & SOCIAL SCIENCES|POLITICAL SCIENCE|5|0-3-0-2-7.5|Cohort 2011 and before:\n",
      "Completed 80 MCs, including 28 MCs in PS or 28 MCs in SC with a minimum CAP of 3.50 or be on the Honours track.\n",
      "\n",
      "Cohort 2012 onwards:\n",
      "Completed 80 MCs, including 28 MCs in PS or 28 MCs in SC or 28 MCs in GL/GL recognised non-language modules, with a minimum CAP of 3.20 or be on the Honours track.|||\n",
      "        |PS4882A|Topics in IR: Globalisation, Security and the State|2018/2019|ARTS & SOCIAL SCIENCES|POLITICAL SCIENCE|5|0-3-0-2-7.5|Cohort 2011 and before:\n",
      "Completed 80 MCs, including 28 MCs in PS or 28 MCs in SC with a minimum CAP of 3.50 or be on the Honours track.\n",
      "\n",
      "Cohort 2012 onwards:\n",
      "Completed 80 MCs, including 28 MCs in PS or 28 MCs in SC or 28 MCs in GL/GL recognised non-language modules, with a minimum CAP of 3.20 or be on the Honours track.|Nil|NIL|\n",
      "        |PS4882D|Topics in IR: Politics of Global Migration|2018/2019|ARTS & SOCIAL SCIENCES|POLITICAL SCIENCE|5|0-3-0-2-7.5|Cohort 2011 and before:\n",
      "Completed 80 MCs, including 28 MCs in PS, with a minimum CAP of 3.50 or be on the Honours track.\n",
      "\n",
      "Cohort 2012 onwards:\n",
      "Completed 80 MCs, including 28 MCs in PS or 28 MCs in GL/GL recognised non-language modules, with a minimum CAP of 3.20 or be on the Honours track.|NIL||\n",
      "        |PS4213|International Political Theory|2017/2018|ARTS & SOCIAL SCIENCES|POLITICAL SCIENCE|5|0-3-0-2-7.5|Cohort 2011 and before:\n",
      "Completed 80 MCs, including 28 MCs in PS or 28 MCs in EU/LA\n",
      "[French/German]/recognised modules, with a minimum CAP of\n",
      "3.50 or be on the Honours track.\n",
      "\n",
      "Cohort 2012-2014:\n",
      "Completed 80 MCs, including 28 MCs in PS or 28 MCs in EU/LA\n",
      "[French/German]/recognised modules, with a minimum CAP of\n",
      "3.20 or be on the Honours track.\n",
      "\n",
      "Cohort 2015 onwards:\n",
      "Completed 80 MCs, including 28 MCs in PS or 28 MCs in EU/LA\n",
      "[French/German/Spanish]/recognised modules, with a minimum CAP of 3.20 or be on the Honours track.|PS3203B||\n",
      "        |GEK2044|Reading Visual Images|2018/2019|SCHOOL OF DESIGN AND ENVIRONMENT|ARCHITECTURE|4|2-2-0-0-6||AR2225||\n",
      "\n",
      "### Selection Table:\n",
      "\n",
      "        |Major Description|Past Course Selections in Time Order|Predicted Course Selections|\n",
      "        |faculty:FASS,program:Bachelor of Social Sciences|['FMA1202M', 'SSA2206', 'LAH1201', 'PS1101E', 'EL1101E', 'SN1101E', 'MKT1003', 'PS2249', 'LAH2201', 'PS2239', 'PS2250', 'SN2275', 'PS2237', 'PS3260', 'PS3242', 'PS3249', 'PS3251', 'SN2233', 'PS2241', 'SN3275', 'SN2271', 'PS3266', 'GEM2901', 'PS3257', 'PS2247', 'PS4881B', 'JS1101E', 'PS2255', 'SW1101E', 'SN3223', 'PS4882D', 'PS4883A', 'GEK2044', 'SN3274', 'PS4220', 'PS4225']| <TO FILL>|\n",
      "\n",
      "    \n",
      "\n",
      "### Filled Selection Table:\n"
     ]
    }
   ],
   "source": [
    "print(prompts[11])"
   ]
  },
  {
   "cell_type": "code",
   "execution_count": 4,
   "metadata": {},
   "outputs": [],
   "source": [
    "import json\n",
    "\n",
    "json.dump({i+1: prompt for (i, prompt) in enumerate(prompts[:100])}, open(\"exp_zshot.json\", \"w\"), indent = 4)"
   ]
  }
 ],
 "metadata": {
  "kernelspec": {
   "display_name": "Python 3",
   "language": "python",
   "name": "python3"
  },
  "language_info": {
   "codemirror_mode": {
    "name": "ipython",
    "version": 3
   },
   "file_extension": ".py",
   "mimetype": "text/x-python",
   "name": "python",
   "nbconvert_exporter": "python",
   "pygments_lexer": "ipython3",
   "version": "3.8.3"
  },
  "orig_nbformat": 4
 },
 "nbformat": 4,
 "nbformat_minor": 2
}
