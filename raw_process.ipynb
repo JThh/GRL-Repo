{
 "cells": [
  {
   "cell_type": "code",
   "execution_count": 1,
   "metadata": {},
   "outputs": [],
   "source": [
    "import pandas as pd"
   ]
  },
  {
   "cell_type": "code",
   "execution_count": 2,
   "metadata": {},
   "outputs": [
    {
     "name": "stderr",
     "output_type": "stream",
     "text": [
      "/Library/Frameworks/Python.framework/Versions/3.8/lib/python3.8/site-packages/IPython/core/interactiveshell.py:3441: DtypeWarning: Columns (13,16,17) have mixed types.Specify dtype option on import or set low_memory=False.\n",
      "  exec(code_obj, self.user_global_ns, self.user_ns)\n"
     ]
    }
   ],
   "source": [
    "realmods = pd.read_csv('./min_module_list_Anon2.csv')\n",
    "enrol = pd.read_csv('./Encode1_min_module_enrollment_new.csv')\n",
    "program = pd.read_csv('./Encode_min_program_enrol_New_temp.csv')"
   ]
  },
  {
   "cell_type": "code",
   "execution_count": 45,
   "metadata": {},
   "outputs": [
    {
     "data": {
      "text/html": [
       "<div>\n",
       "<style scoped>\n",
       "    .dataframe tbody tr th:only-of-type {\n",
       "        vertical-align: middle;\n",
       "    }\n",
       "\n",
       "    .dataframe tbody tr th {\n",
       "        vertical-align: top;\n",
       "    }\n",
       "\n",
       "    .dataframe thead th {\n",
       "        text-align: right;\n",
       "    }\n",
       "</style>\n",
       "<table border=\"1\" class=\"dataframe\">\n",
       "  <thead>\n",
       "    <tr style=\"text-align: right;\">\n",
       "      <th></th>\n",
       "      <th>module_code</th>\n",
       "      <th>masked_code</th>\n",
       "      <th>Encode</th>\n",
       "    </tr>\n",
       "  </thead>\n",
       "  <tbody>\n",
       "    <tr>\n",
       "      <th>0</th>\n",
       "      <td>ACC1002</td>\n",
       "      <td>5</td>\n",
       "      <td>wing_mode4da3b7fbbce2345d7772b0674a318d5</td>\n",
       "    </tr>\n",
       "    <tr>\n",
       "      <th>1</th>\n",
       "      <td>ACC1002X</td>\n",
       "      <td>6</td>\n",
       "      <td>wing_mod1679091c5a880faf6fb5e6087eb1b2dc</td>\n",
       "    </tr>\n",
       "    <tr>\n",
       "      <th>2</th>\n",
       "      <td>ACC2002</td>\n",
       "      <td>10</td>\n",
       "      <td>wing_modd3d9446802a44259755d38e6d163e820</td>\n",
       "    </tr>\n",
       "    <tr>\n",
       "      <th>3</th>\n",
       "      <td>ACC3601</td>\n",
       "      <td>15</td>\n",
       "      <td>wing_mod9bf31c7ff062936a96d3c8bd1f8f2ff3</td>\n",
       "    </tr>\n",
       "    <tr>\n",
       "      <th>4</th>\n",
       "      <td>ACC3602</td>\n",
       "      <td>16</td>\n",
       "      <td>wing_modc74d97b01eae257e44aa9d5bade97baf</td>\n",
       "    </tr>\n",
       "  </tbody>\n",
       "</table>\n",
       "</div>"
      ],
      "text/plain": [
       "  module_code  masked_code                                    Encode\n",
       "0     ACC1002            5  wing_mode4da3b7fbbce2345d7772b0674a318d5\n",
       "1    ACC1002X            6  wing_mod1679091c5a880faf6fb5e6087eb1b2dc\n",
       "2     ACC2002           10  wing_modd3d9446802a44259755d38e6d163e820\n",
       "3     ACC3601           15  wing_mod9bf31c7ff062936a96d3c8bd1f8f2ff3\n",
       "4     ACC3602           16  wing_modc74d97b01eae257e44aa9d5bade97baf"
      ]
     },
     "execution_count": 45,
     "metadata": {},
     "output_type": "execute_result"
    }
   ],
   "source": [
    "realmods.head()"
   ]
  },
  {
   "cell_type": "code",
   "execution_count": 8,
   "metadata": {},
   "outputs": [
    {
     "data": {
      "text/html": [
       "<div>\n",
       "<style scoped>\n",
       "    .dataframe tbody tr th:only-of-type {\n",
       "        vertical-align: middle;\n",
       "    }\n",
       "\n",
       "    .dataframe tbody tr th {\n",
       "        vertical-align: top;\n",
       "    }\n",
       "\n",
       "    .dataframe thead th {\n",
       "        text-align: right;\n",
       "    }\n",
       "</style>\n",
       "<table border=\"1\" class=\"dataframe\">\n",
       "  <thead>\n",
       "    <tr style=\"text-align: right;\">\n",
       "      <th></th>\n",
       "      <th>Unnamed: 0</th>\n",
       "      <th>stu_encode</th>\n",
       "      <th>mod_encode</th>\n",
       "      <th>term</th>\n",
       "      <th>academic_career</th>\n",
       "      <th>class_nbr</th>\n",
       "      <th>class_group</th>\n",
       "      <th>grading_basis</th>\n",
       "      <th>earn_credit</th>\n",
       "      <th>mod_credits</th>\n",
       "      <th>requirement_designation</th>\n",
       "    </tr>\n",
       "  </thead>\n",
       "  <tbody>\n",
       "    <tr>\n",
       "      <th>0</th>\n",
       "      <td>0</td>\n",
       "      <td>wing_mod2ac4692cb4f636b0769d2c291af6aa88</td>\n",
       "      <td>['wing_mod413894b7e2c6dfc6e8a0e9f18287e3c4']</td>\n",
       "      <td>1000</td>\n",
       "      <td>UDEN</td>\n",
       "      <td>1017</td>\n",
       "      <td>LL1</td>\n",
       "      <td>GRD</td>\n",
       "      <td>Y</td>\n",
       "      <td>1.0</td>\n",
       "      <td>NaN</td>\n",
       "    </tr>\n",
       "    <tr>\n",
       "      <th>1</th>\n",
       "      <td>1</td>\n",
       "      <td>wing_mod2ac4692cb4f636b0769d2c291af6aa88</td>\n",
       "      <td>['wing_modcc9657884708170e160c8372d92f3535']</td>\n",
       "      <td>1000</td>\n",
       "      <td>UDEN</td>\n",
       "      <td>1036</td>\n",
       "      <td>LL1</td>\n",
       "      <td>NOT</td>\n",
       "      <td>N</td>\n",
       "      <td>1.0</td>\n",
       "      <td>NaN</td>\n",
       "    </tr>\n",
       "    <tr>\n",
       "      <th>2</th>\n",
       "      <td>2</td>\n",
       "      <td>wing_mod2ac4692cb4f636b0769d2c291af6aa88</td>\n",
       "      <td>['wing_modd62bcf67cf8ef4536d0ff0204922214b']</td>\n",
       "      <td>1000</td>\n",
       "      <td>UDEN</td>\n",
       "      <td>1133</td>\n",
       "      <td>TL1</td>\n",
       "      <td>NON</td>\n",
       "      <td>N</td>\n",
       "      <td>0.0</td>\n",
       "      <td>NaN</td>\n",
       "    </tr>\n",
       "    <tr>\n",
       "      <th>3</th>\n",
       "      <td>3</td>\n",
       "      <td>wing_mod2ac4692cb4f636b0769d2c291af6aa88</td>\n",
       "      <td>['wing_mod19f3cd308f1455b3fa09a282e0d496f4']</td>\n",
       "      <td>1000</td>\n",
       "      <td>UDEN</td>\n",
       "      <td>1039</td>\n",
       "      <td>LL1</td>\n",
       "      <td>GRD</td>\n",
       "      <td>Y</td>\n",
       "      <td>1.0</td>\n",
       "      <td>NaN</td>\n",
       "    </tr>\n",
       "    <tr>\n",
       "      <th>4</th>\n",
       "      <td>4</td>\n",
       "      <td>wing_mod2ac4692cb4f636b0769d2c291af6aa88</td>\n",
       "      <td>['wing_modb17c0907e67d868b4e0feb43dbbe6f11']</td>\n",
       "      <td>1000</td>\n",
       "      <td>UDEN</td>\n",
       "      <td>1029</td>\n",
       "      <td>LL1</td>\n",
       "      <td>GRD</td>\n",
       "      <td>Y</td>\n",
       "      <td>1.0</td>\n",
       "      <td>NaN</td>\n",
       "    </tr>\n",
       "  </tbody>\n",
       "</table>\n",
       "</div>"
      ],
      "text/plain": [
       "   Unnamed: 0                                stu_encode  \\\n",
       "0           0  wing_mod2ac4692cb4f636b0769d2c291af6aa88   \n",
       "1           1  wing_mod2ac4692cb4f636b0769d2c291af6aa88   \n",
       "2           2  wing_mod2ac4692cb4f636b0769d2c291af6aa88   \n",
       "3           3  wing_mod2ac4692cb4f636b0769d2c291af6aa88   \n",
       "4           4  wing_mod2ac4692cb4f636b0769d2c291af6aa88   \n",
       "\n",
       "                                     mod_encode  term academic_career  \\\n",
       "0  ['wing_mod413894b7e2c6dfc6e8a0e9f18287e3c4']  1000            UDEN   \n",
       "1  ['wing_modcc9657884708170e160c8372d92f3535']  1000            UDEN   \n",
       "2  ['wing_modd62bcf67cf8ef4536d0ff0204922214b']  1000            UDEN   \n",
       "3  ['wing_mod19f3cd308f1455b3fa09a282e0d496f4']  1000            UDEN   \n",
       "4  ['wing_modb17c0907e67d868b4e0feb43dbbe6f11']  1000            UDEN   \n",
       "\n",
       "   class_nbr class_group grading_basis earn_credit  mod_credits  \\\n",
       "0       1017         LL1           GRD           Y          1.0   \n",
       "1       1036         LL1           NOT           N          1.0   \n",
       "2       1133         TL1           NON           N          0.0   \n",
       "3       1039         LL1           GRD           Y          1.0   \n",
       "4       1029         LL1           GRD           Y          1.0   \n",
       "\n",
       "  requirement_designation  \n",
       "0                     NaN  \n",
       "1                     NaN  \n",
       "2                     NaN  \n",
       "3                     NaN  \n",
       "4                     NaN  "
      ]
     },
     "execution_count": 8,
     "metadata": {},
     "output_type": "execute_result"
    }
   ],
   "source": [
    "enrol.head()"
   ]
  },
  {
   "cell_type": "code",
   "execution_count": 69,
   "metadata": {},
   "outputs": [],
   "source": [
    "# Find out all programs a student had attended\n",
    "from collections import defaultdict\n",
    "students = defaultdict(set)\n",
    "for row in program.iterrows():\n",
    "    row = row[1]\n",
    "    code = row['student_anon']\n",
    "    acad_plan = f\"faculty:{row['faculty_descr']},program:{row['academic_program_descr']}\"\n",
    "    students[f'student <{code}>'].add((str(row['term']), acad_plan))"
   ]
  },
  {
   "cell_type": "code",
   "execution_count": 70,
   "metadata": {},
   "outputs": [],
   "source": [
    "# import pickle\n",
    "# f = open('student_acad_programs.pkl','wb')\n",
    "# pickle.dump(students, f)\n",
    "# f.close()"
   ]
  },
  {
   "cell_type": "code",
   "execution_count": null,
   "metadata": {},
   "outputs": [],
   "source": [
    "program.tail(4)"
   ]
  },
  {
   "cell_type": "code",
   "execution_count": 46,
   "metadata": {},
   "outputs": [],
   "source": [
    "encode_anon_map = dict(zip(program.stu_encode.tolist(), program.student_anon.tolist()))\n",
    "mod_code_map = dict(zip(realmods.Encode.tolist(), realmods.module_code.tolist()))"
   ]
  },
  {
   "cell_type": "code",
   "execution_count": 62,
   "metadata": {},
   "outputs": [],
   "source": [
    "# Generate a student-courses dataframe.\n",
    "selections = defaultdict(set) \n",
    "for row in enrol.iterrows():\n",
    "    row = row[1]\n",
    "    try:\n",
    "        anon = encode_anon_map[row['stu_encode']]\n",
    "        mod = mod_code_map[row['mod_encode'][2:-2]]\n",
    "        selections[f'student <{anon}>'].add((str(row['term']), mod))\n",
    "    except:\n",
    "        continue"
   ]
  },
  {
   "cell_type": "code",
   "execution_count": 68,
   "metadata": {},
   "outputs": [],
   "source": [
    "# import pickle\n",
    "# f = open('course_selections.pkl','wb')\n",
    "# pickle.dump(selections, f)\n",
    "# f.close()"
   ]
  }
 ],
 "metadata": {
  "kernelspec": {
   "display_name": "Python 3",
   "language": "python",
   "name": "python3"
  },
  "language_info": {
   "codemirror_mode": {
    "name": "ipython",
    "version": 3
   },
   "file_extension": ".py",
   "mimetype": "text/x-python",
   "name": "python",
   "nbconvert_exporter": "python",
   "pygments_lexer": "ipython3",
   "version": "3.8.3"
  },
  "orig_nbformat": 4
 },
 "nbformat": 4,
 "nbformat_minor": 2
}
